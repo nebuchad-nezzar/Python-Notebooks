{
  "nbformat": 4,
  "nbformat_minor": 0,
  "metadata": {
    "colab": {
      "provenance": [],
      "toc_visible": true
    },
    "kernelspec": {
      "name": "python3",
      "display_name": "Python 3"
    },
    "language_info": {
      "name": "python"
    }
  },
  "cells": [
    {
      "cell_type": "markdown",
      "metadata": {
        "id": "dB4_y4GBm0tt"
      },
      "source": [
        "# A-Star Search Algorithm"
      ]
    },
    {
      "cell_type": "markdown",
      "metadata": {
        "id": "hRmWMPwTm5Ob"
      },
      "source": [
        "This notebook complements the walkthrough article [here](https://towardsdatascience.com/a-star-a-search-algorithm-eb495fb156bb) on the A-Star search algorithm. Throughout the notebook, we ask to you finish sections on your own and answer questions."
      ]
    },
    {
      "cell_type": "markdown",
      "metadata": {
        "id": "auBnTGWHoMle"
      },
      "source": [
        "## [Question - Describe A*]\n",
        "Describe A* search in your own words."
      ]
    },
    {
      "cell_type": "markdown",
      "source": [
        "A* Search is a highly effective pathfinding and graph traversal algorithm that combines the benefits of Dijkstra's algorithm and Best-First Search, making it a popular choice in various applications where optimal paths need to be determined efficiently.\n",
        "\n",
        "It is an informed search algorithm that combines features of both Dijkstra’s algorithm (which focuses on finding the shortest path) and Best-First Search (which uses heuristics). A* is widely used in various applications, including artificial intelligence, robotics, and game development, to efficiently find the optimal path from a start node to a goal node.\n",
        "Key Features of A* Search:\n",
        "\n",
        "    Evaluation Function: A* uses a heuristic function to evaluate nodes. The evaluation function f(n)f(n) is defined as:\n",
        "    f(n)=g(n)+h(n)\n",
        "    f(n)=g(n)+h(n)\n",
        "        g(n)g(n): The cost from the start node to the current node nn.\n",
        "        h(n)h(n): The heuristic estimate of the cost from the current node nn to the goal node. It should be admissible, meaning it never overestimates the actual cost to reach the goal.\n",
        "\n",
        "Priority Queue: A* uses a priority queue to keep track of nodes that need to be explored. Nodes are expanded based on their f(n)f(n) values, with the lowest f(n)f(n) being explored first.\n",
        "\n",
        "Completeness: A* is complete, meaning it will find a solution if one exists, provided that the heuristic used is admissible and the search space is finite.\n",
        "\n",
        "Optimality: A* is optimal when the heuristic h(n)h(n) is admissible and consistent (or monotonic). This means it will always find the least-cost path to the goal.\n",
        "\n",
        "\n",
        "Advantages:\n",
        "\n",
        "Efficiency: A* is generally more efficient than uninformed search methods because it intelligently directs its search based on heuristic estimates.\n",
        "Flexibility: The performance of A* can be improved by using different heuristics tailored to specific problems.\n",
        "Guaranteed Optimality: When using an admissible heuristic, A* guarantees the optimal path.\n",
        "\n",
        "Disadvantages:\n",
        "\n",
        "Memory Usage: A* can consume a large amount of memory since it keeps track of all explored nodes and nodes to be explored.\n",
        "Heuristic Dependence: The performance of A* is heavily dependent on the choice of heuristic. A poorly chosen heuristic can lead to inefficient searches.\n",
        "\n",
        "Applications:\n",
        "\n",
        "Navigation Systems: A* is widely used in GPS and mapping applications to find the shortest path between locations.\n",
        "Game Development: Many games use A* for AI movement and pathfinding for characters and units.\n",
        "Robotics: A* can be used for robot navigation in environments with obstacles."
      ],
      "metadata": {
        "id": "l13P5_uweU1f"
      }
    },
    {
      "cell_type": "markdown",
      "metadata": {
        "id": "FsP7pSLAoooN"
      },
      "source": [
        "## [Question - Describe h and g]\n",
        "In A* search, describe the two key elements of *f(n)* (namely *h(n)* and *g(n)*). What do they represent in the algorithm and how do they differ?"
      ]
    },
    {
      "cell_type": "markdown",
      "source": [
        "In the A* search algorithm, the evaluation function f(n)f(n) is central to guiding the search process towards the goal efficiently. The function is defined as:\n",
        "f(n)=g(n)+h(n)\n",
        "f(n)=g(n)+h(n)\n",
        "\n",
        "where:\n",
        "\n",
        "    g(n)g(n): Represents the cost from the start node to the current node nn.\n",
        "    h(n)h(n): Represents the heuristic estimate of the cost from the current node nn to the goal node.\n",
        "\n",
        "Detailed Description of Each Element:\n",
        "1. g(n)g(n) - Actual Cost from Start to Node nn\n",
        "\n",
        "  Definition: g(n)g(n) is the cumulative cost incurred to reach node nn from the starting node. This cost is typically the sum of the weights or distances of the edges traversed along the path from the start node to nn.\n",
        "\n",
        "  Characteristics:\n",
        "        Non-Decreasing: As the algorithm progresses, g(n)g(n) should never decrease, meaning that once a node is expanded, its cost is fixed. This ensures that the algorithm builds a valid path from the start to the current node.\n",
        "        Path Specific: g(n)g(n) reflects the specific path taken to reach nn and is an exact measure of the cost incurred so far.\n",
        "\n",
        "  Role in A*: g(n)g(n) plays a crucial role in determining how costly it is to reach a particular node. It provides the algorithm with a way to account for the actual cost of reaching nodes as it explores the search space.\n",
        "\n",
        "2. h(n)h(n) - Heuristic Estimate to Goal\n",
        "\n",
        "   Definition: h(n)h(n) is a heuristic function that estimates the cost from the current node nn to the goal node. It provides an informed guess about how much more cost is likely needed to reach the goal from nn.\n",
        "\n",
        "  Characteristics:\n",
        "      Admissibility: For A∗A∗ to be optimal, the heuristic h(n)h(n) must be admissible. This means it should never overestimate the actual cost to reach the goal. If h(n)h(n) is admissible, the algorithm guarantees finding the shortest path to the goal.\n",
        "      Domain-Specific: Heuristics are often tailored to the specific problem domain and can vary in their effectiveness. A good heuristic can significantly speed up the search process, while a poor one can lead to inefficiency.\n",
        "\n",
        "  Role in A*: h(n)h(n) provides the algorithm with guidance on which nodes are likely to lead to a solution more quickly. By estimating the remaining cost to reach the goal, h(n)h(n) helps prioritize the expansion of nodes that appear to be more promising.\n",
        "\n",
        "\n",
        "\n",
        "\n",
        "\n",
        "g(n)g(n) and h(n)h(n) are two key components of the A* search algorithm that serve distinct yet complementary purposes. While g(n)g(n) tracks the actual cost incurred to reach a node from the start, h(n)h(n) provides an estimate of the cost to reach the goal from that node. The combination of these two elements in the evaluation function f(n)f(n) allows A* to efficiently navigate through the search space and find the optimal path to the goal.\n"
      ],
      "metadata": {
        "id": "CBnD1Su-fiXE"
      }
    },
    {
      "cell_type": "markdown",
      "metadata": {
        "id": "-_VkEgNWuMDK"
      },
      "source": [
        "## [Activity - run Node]\n",
        "Examine and run the below code."
      ]
    },
    {
      "cell_type": "code",
      "metadata": {
        "id": "ufRvBVJBmmxA"
      },
      "source": [
        "\n",
        "class Node():\n",
        "    \"\"\"A node class for A* Pathfinding\"\"\"\n",
        "\n",
        "    def __init__(self, parent=None, position=None):\n",
        "        self.parent = parent\n",
        "        self.position = position\n",
        "\n",
        "        self.g = 0\n",
        "        self.h = 0\n",
        "        self.f = 0\n",
        "\n",
        "    def __eq__(self, other):\n",
        "        return self.position == other.position"
      ],
      "execution_count": 1,
      "outputs": []
    },
    {
      "cell_type": "markdown",
      "metadata": {
        "id": "Ucsmb_lfuTrp"
      },
      "source": [
        "## [Question - Explain 'Node']\n",
        "In your own words, describe what the purpose of the *Node* class is. Why do we have to initialize a parent and a position?"
      ]
    },
    {
      "cell_type": "markdown",
      "source": [
        "The Node class in the context of A* pathfinding serves as a fundamental building block for representing each position (or state) in the search space.\n",
        "\n",
        "##Purpose of the Node Class\n",
        "\n",
        "####Representation of State: Each instance of the Node class represents a specific state or position in the grid or graph being explored during the pathfinding process. This state is defined by its position in the search space.\n",
        "\n",
        "####Path Tracking: The Node class keeps track of the path taken to reach a particular state. By maintaining a reference to its parent node, it enables the reconstruction of the path from the start node to the goal node once the pathfinding algorithm completes.\n",
        "\n",
        "####Cost Calculations: The class includes properties gg, hh, and ff:\n",
        "        gg: The cost from the start node to the current node. This is the cumulative cost incurred to reach that node.\n",
        "        hh: The heuristic estimate of the cost from the current node to the goal node.\n",
        "        ff: The total estimated cost of the cheapest solution through the current node, calculated as f=g+hf=g+h. This value is used to prioritize node expansion in the A* algorithm.\n",
        "\n",
        "parent:\n",
        "\n",
        "  Purpose: The parent attribute references the node that led to the current node. It is essential for backtracking the path from the goal node to the start node.\n",
        "  Importance: By storing the parent node, we can reconstruct the optimal path once the search is complete. When a node is determined to be part of the optimal path, its parent is also marked as such, creating a chain of nodes that represent the complete path taken.\n",
        "\n",
        "position:\n",
        "\n",
        "  Purpose: The position attribute defines the node's location in the search space (e.g., grid coordinates in a 2D space). It serves as a unique identifier for the node within the search algorithm.\n",
        "  Importance: The position is crucial for navigating the search space. It allows the algorithm to determine neighboring nodes, check for obstacles, and manage the overall pathfinding process effectively. Each node's position helps the algorithm evaluate possible moves and expand nodes based on their proximity to the goal.\n",
        "\n",
        "   All in all, Node class is a critical component of the A* pathfinding algorithm, encapsulating the necessary information about each state in the search space. Initializing the parent and position attributes allows for efficient path tracking and navigation through the search space, enabling the algorithm to construct the optimal path from the start node to the goal node after completion."
      ],
      "metadata": {
        "id": "aeDtn5ZFgbbc"
      }
    },
    {
      "cell_type": "markdown",
      "metadata": {
        "id": "B6s0TVMuur8t"
      },
      "source": [
        "## [Activity - Run astar() ]"
      ]
    },
    {
      "cell_type": "code",
      "source": [
        "import matplotlib.pyplot as plt\n",
        "from warnings import warn\n",
        "\n",
        "\n",
        "class Node:\n",
        "    \"\"\"\n",
        "    A node class for A* Pathfinding\n",
        "    \"\"\"\n",
        "\n",
        "    def __init__(self, parent=None, position=None):\n",
        "        self.parent = parent\n",
        "        self.position = position\n",
        "\n",
        "        self.g = 0\n",
        "        self.h = 0\n",
        "        self.f = 0\n",
        "\n",
        "    def __eq__(self, other):\n",
        "        return self.position == other.position\n",
        "\n",
        "\n",
        "def return_path(current_node):\n",
        "    path = []\n",
        "    current = current_node\n",
        "    while current is not None:\n",
        "        path.append(current.position)\n",
        "        current = current.parent\n",
        "    return path[::-1]  # Return reversed path"
      ],
      "metadata": {
        "id": "W7Nu-ktMw-99"
      },
      "execution_count": 35,
      "outputs": []
    },
    {
      "cell_type": "code",
      "metadata": {
        "id": "wYzrkdjZpxZs"
      },
      "source": [
        "def astar(maze, start, end, allow_diagonal_movement=False):\n",
        "    \"\"\"\n",
        "    Returns a list of tuples as a path from the given start to the given end in the given maze\n",
        "    \"\"\"\n",
        "\n",
        "    # Create start and end node\n",
        "    start_node = Node(None, start)\n",
        "    start_node.g = start_node.h = start_node.f = 0\n",
        "    end_node = Node(None, end)\n",
        "    end_node.g = end_node.h = end_node.f = 0\n",
        "\n",
        "    # Initialize both open and closed list\n",
        "    open_list = []\n",
        "    closed_list = []\n",
        "\n",
        "    # Add the start node\n",
        "    open_list.append(start_node)\n",
        "\n",
        "    # Adding a stop condition\n",
        "    outer_iterations = 0\n",
        "    max_iterations = (len(maze) // 2) ** 2\n",
        "\n",
        "    # what squares do we search\n",
        "    adjacent_squares = ((0, -1), (0, 1), (-1, 0), (1, 0),)\n",
        "    if allow_diagonal_movement:\n",
        "        adjacent_squares = ((0, -1), (0, 1), (-1, 0), (1, 0), (-1, -1), (-1, 1), (1, -1), (1, 1),)\n",
        "\n",
        "    # Loop until you find the end\n",
        "    while len(open_list) > 0:\n",
        "        outer_iterations += 1\n",
        "\n",
        "        # Get the current node\n",
        "        current_node = open_list[0]\n",
        "        current_index = 0\n",
        "        for index, item in enumerate(open_list):\n",
        "            if item.f < current_node.f:\n",
        "                current_node = item\n",
        "                current_index = index\n",
        "\n",
        "        if outer_iterations > max_iterations:\n",
        "            warn(\"giving up on pathfinding too many iterations\")\n",
        "            return return_path(current_node)\n",
        "\n",
        "        # Pop current off open list, add to closed list\n",
        "        open_list.pop(current_index)\n",
        "        closed_list.append(current_node)\n",
        "\n",
        "        # Found the goal\n",
        "        if current_node == end_node:\n",
        "            return return_path(current_node)\n",
        "\n",
        "        # Generate children\n",
        "        children = []\n",
        "\n",
        "        for new_position in adjacent_squares:  # Adjacent squares\n",
        "\n",
        "            # Get node position\n",
        "            node_position = (current_node.position[0] + new_position[0], current_node.position[1] + new_position[1])\n",
        "\n",
        "            # Make sure within range\n",
        "            within_range_criteria = [\n",
        "                node_position[0] > (len(maze) - 1),\n",
        "                node_position[0] < 0,\n",
        "                node_position[1] > (len(maze[len(maze) - 1]) - 1),\n",
        "                node_position[1] < 0,\n",
        "            ]\n",
        "\n",
        "            if any(within_range_criteria):\n",
        "                continue\n",
        "\n",
        "            # Make sure walkable terrain\n",
        "            if maze[node_position[0]][node_position[1]] != 0:\n",
        "                continue\n",
        "\n",
        "            # Create new node\n",
        "            new_node = Node(current_node, node_position)\n",
        "\n",
        "            # Append\n",
        "            children.append(new_node)\n",
        "\n",
        "        # Loop through children\n",
        "        for child in children:\n",
        "\n",
        "            # Child is on the closed list\n",
        "            if len([closed_child for closed_child in closed_list if closed_child == child]) > 0:\n",
        "                continue\n",
        "\n",
        "            # Create the f, g, and h values\n",
        "            child.g = current_node.g + 1\n",
        "            child.h = ((child.position[0] - end_node.position[0]) ** 2) + \\\n",
        "                       ((child.position[1] - end_node.position[1]) ** 2)\n",
        "            child.f = child.g + child.h\n",
        "\n",
        "            # Child is already in the open list\n",
        "            if len([open_node for open_node in open_list if child == open_node and child.g > open_node.g]) > 0:\n",
        "                continue\n",
        "\n",
        "            # Add the child to the open list\n",
        "            open_list.append(child)\n",
        "\n",
        "\n",
        "def plot_path(maze, path, start, end):\n",
        "    \"\"\"\n",
        "    Visualizes the maze and the path.\n",
        "    :param maze: 2D grid representing the maze\n",
        "    :param path: List of tuples representing the path\n",
        "    :param start: Starting position\n",
        "    :param end: Ending position\n",
        "    \"\"\"\n",
        "\n",
        "    plt.figure(figsize=(10, 10))\n",
        "    plt.imshow(maze, cmap=\"gray_r\")  # Display maze (1=wall, 0=free space)\n",
        "\n",
        "    # Plot path\n",
        "    if path:\n",
        "        path_x, path_y = zip(*path)\n",
        "        plt.plot(path_y, path_x, color=\"red\", linewidth=2, label=\"Path\")\n",
        "\n",
        "    # Mark start and end points\n",
        "    plt.scatter(start[1], start[0], color=\"green\", s=100, label=\"Start\")  # Green for start\n",
        "    plt.scatter(end[1], end[0], color=\"blue\", s=100, label=\"End\")  # Blue for end\n",
        "\n",
        "    plt.legend()\n",
        "    plt.gca().invert_yaxis()\n",
        "    plt.show()"
      ],
      "execution_count": 36,
      "outputs": []
    },
    {
      "cell_type": "markdown",
      "metadata": {
        "id": "hral7UX2vF0z"
      },
      "source": [
        "## [Question - Explain maze]\n",
        "What type of input should value of *maze* be?"
      ]
    },
    {
      "cell_type": "markdown",
      "source": [
        "it should be 2D a matrix that with 0 and 1 flags representing closing and opening of the path"
      ],
      "metadata": {
        "id": "_5I9HF001ssO"
      }
    },
    {
      "cell_type": "markdown",
      "metadata": {
        "id": "EcB70Wbet1-w"
      },
      "source": [
        "## [Question - Build Main]\n",
        "Please use the above code that uses the astar() function to define a path from the beginning to the end of a maze. You can choose how the maze looks and where the start and end are."
      ]
    },
    {
      "cell_type": "code",
      "source": [
        "def main():\n",
        "    maze = [[0, 1, 1, 0, 1, 0, 0, 0, 0, 0],\n",
        "            [0, 1, 0, 0, 1, 1, 1, 1, 0, 0],\n",
        "            [0, 0, 0, 1, 1, 0, 0, 1, 0, 0],\n",
        "            [1, 1, 0, 0, 1, 0, 1, 1, 0, 0],\n",
        "            [1, 1, 0, 0, 0, 0, 1, 0, 0, 0],\n",
        "            [0, 0, 0, 1, 1, 0, 0, 0, 1, 1],\n",
        "            [0, 1, 1, 1, 0, 0, 1, 0, 1, 0],\n",
        "            [0, 0, 0, 0, 0, 1, 1, 0, 1, 0],\n",
        "            [0, 1, 1, 1, 0, 0, 0, 0, 1, 0],\n",
        "            [0, 0, 0, 0, 0, 1, 1, 0, 0, 0]]\n",
        "\n",
        "    start = (0, 0)\n",
        "    end = (9, 9)\n",
        "\n",
        "    path = astar(maze, start, end, allow_diagonal_movement=False)\n",
        "    print(f\"Path: {path}\")\n",
        "\n",
        "    # Visualize the path\n",
        "    plot_path(maze, path, start, end)\n",
        "\n",
        "\n",
        "if __name__ == \"__main__\":\n",
        "    main()\n"
      ],
      "metadata": {
        "colab": {
          "base_uri": "https://localhost:8080/",
          "height": 848
        },
        "id": "jHFOgT6IxTEV",
        "outputId": "3e0ce0df-8d5a-4880-ba47-c7e2a42cf43d"
      },
      "execution_count": 39,
      "outputs": [
        {
          "output_type": "stream",
          "name": "stdout",
          "text": [
            "Path: [(0, 0), (1, 0), (2, 0), (2, 1), (2, 2), (3, 2), (3, 3), (4, 3), (4, 4), (4, 5), (5, 5), (5, 6), (5, 7), (6, 7), (7, 7), (8, 7), (9, 7), (9, 8), (9, 9)]\n"
          ]
        },
        {
          "output_type": "display_data",
          "data": {
            "text/plain": [
              "<Figure size 1000x1000 with 1 Axes>"
            ],
            "image/png": "[encoded data removed]"
          },
          "metadata": {}
        }
      ]
    },
    {
      "cell_type": "markdown",
      "metadata": {
        "id": "_t_M9LWSwc79"
      },
      "source": [
        "## [Question - Impossible Maze]\n",
        "Now create a maze that the algorithm cannot solve. What is the output of the algorithm?"
      ]
    },
    {
      "cell_type": "code",
      "source": [
        "def main_unsolvable():\n",
        "    # A more complex unsolvable maze\n",
        "    maze = [[0, 0, 0, 0, 1, 1, 1, 1, 1, 1],\n",
        "            [0, 1, 1, 0, 1, 0, 0, 0, 1, 1],\n",
        "            [0, 1, 0, 0, 1, 0, 1, 0, 1, 1],\n",
        "            [0, 0, 0, 1, 1, 0, 0, 1, 0, 1],\n",
        "            [1, 1, 1, 1, 1, 1, 0, 0, 0, 1],\n",
        "            [0, 0, 0, 0, 1, 0, 0, 0, 1, 0],\n",
        "            [0, 0, 0, 0, 1, 1, 0, 0, 1, 0],\n",
        "            [0, 0, 0, 0, 0, 0, 1, 1, 1, 0],\n",
        "            [1, 1, 1, 1, 1, 0, 0, 0, 0, 0],\n",
        "            [0, 0, 0, 0, 1, 1, 1, 1, 1, 0]]\n",
        "\n",
        "    start = (0, 0)\n",
        "    end = (9, 9)\n",
        "\n",
        "    path = astar(maze, start, end, allow_diagonal_movement=False)\n",
        "    if not path:\n",
        "        print(\"No path found!\")\n",
        "    else:\n",
        "        print(f\"Path: {path}\")\n",
        "\n",
        "    # Visualize the path (even if no path is found)\n",
        "    plot_path(maze, path, start, end)\n",
        "\n",
        "\n",
        "if __name__ == \"__main__\":\n",
        "    main_unsolvable()\n"
      ],
      "metadata": {
        "colab": {
          "base_uri": "https://localhost:8080/",
          "height": 848
        },
        "id": "gCQSI4FVzXov",
        "outputId": "e0491d43-6cf2-40dc-c351-ad4f5b714ff3"
      },
      "execution_count": 48,
      "outputs": [
        {
          "output_type": "stream",
          "name": "stdout",
          "text": [
            "No path found!\n"
          ]
        },
        {
          "output_type": "display_data",
          "data": {
            "text/plain": [
              "<Figure size 1000x1000 with 1 Axes>"
            ],
            "image/png": "[encoded data removed]"
          },
          "metadata": {}
        }
      ]
    },
    {
      "cell_type": "code",
      "source": [],
      "metadata": {
        "id": "kdb6WLLt2dYJ"
      },
      "execution_count": null,
      "outputs": []
    }
  ]
}